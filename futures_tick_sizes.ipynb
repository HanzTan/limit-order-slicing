{
 "cells": [
  {
   "cell_type": "code",
   "execution_count": 2,
   "id": "f96d0856",
   "metadata": {},
   "outputs": [],
   "source": [
    "import pickle"
   ]
  },
  {
   "cell_type": "code",
   "execution_count": 3,
   "id": "49b77941",
   "metadata": {},
   "outputs": [],
   "source": [
    "tick = {\n",
    "    \"RX\": 0.01,\n",
    "    \"HG\": 0.05,\n",
    "    \"CL\": 0.01,\n",
    "    \"EC\": 0.00005,\n",
    "    \"GC\": 0.1,\n",
    "    \"NQ\": 0.25,\n",
    "    \"ES\": 0.25,\n",
    "    \"SI\": 0.005,\n",
    "    \"SO\": 0.25,\n",
    "    \"TY\": 0.000025,\n",
    "}"
   ]
  },
  {
   "cell_type": "code",
   "execution_count": 5,
   "id": "ecae55e8",
   "metadata": {},
   "outputs": [],
   "source": [
    "with open(\"clean-data/futures_ticks.pkl\", \"wb\") as f:\n",
    "    pickle.dump(tick, f)\n",
    "\n",
    "f.close()"
   ]
  }
 ],
 "metadata": {
  "kernelspec": {
   "display_name": "trading",
   "language": "python",
   "name": "python3"
  },
  "language_info": {
   "codemirror_mode": {
    "name": "ipython",
    "version": 3
   },
   "file_extension": ".py",
   "mimetype": "text/x-python",
   "name": "python",
   "nbconvert_exporter": "python",
   "pygments_lexer": "ipython3",
   "version": "3.12.3"
  }
 },
 "nbformat": 4,
 "nbformat_minor": 5
}
