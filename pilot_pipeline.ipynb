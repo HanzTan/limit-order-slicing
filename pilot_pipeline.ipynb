{
 "cells": [
  {
   "cell_type": "code",
   "execution_count": null,
   "id": "7cd4d5a8",
   "metadata": {},
   "outputs": [],
   "source": [
    "import pickle\n",
    "import pandas as pd"
   ]
  },
  {
   "cell_type": "code",
   "execution_count": null,
   "id": "3634801d",
   "metadata": {},
   "outputs": [],
   "source": [
    "ticker = \"ES\"\n",
    "interval = 30                       # Assumed to be either 5, 10, 15, 30, 60 minutes\n",
    "partitions = [0.65, 0.8]\n",
    "\n",
    "with open(\"data/futures_ticks.pkl\", \"rb\") as f:\n",
    "    ticks = pickle.load(f)[ticker]\n",
    "ticker += \"_temp\"       \n",
    "futures_df = pd.read_csv(f\"./data/S&P500 Mini/{ticker}.csv\", index_col='t', parse_dates=True)\n",
    "\n",
    "resampled_o = futures_df['o'].resample(f\"{interval}min\").first()\n",
    "resampled_h = futures_df['h'].resample(f\"{interval}min\").max()\n",
    "resampled_l = futures_df['l'].resample(f\"{interval}min\").min()\n",
    "resampled_c = futures_df['c'].resample(f\"{interval}min\").last()\n",
    "resampled_v = futures_df['v'].resample(f\"{interval}min\").sum()\n",
    "main_df = pd.DataFrame(\n",
    "    {\n",
    "        'o': resampled_o,\n",
    "        'h': resampled_h,\n",
    "        'l': resampled_l,\n",
    "        'c': resampled_c,\n",
    "        'v': resampled_v,\n",
    "    }\n",
    ")\n",
    "main_df[\"delta\"] = main_df[\"c\"].diff()\n",
    "main_df[\"fwd_r_u\"] = ((main_df[\"h\"] - main_df[\"o\"]) / ticks).shift(-1)\n",
    "main_df[\"fwd_r_d\"] = ((main_df[\"o\"] - main_df[\"l\"]) / ticks).shift(-1)\n",
    "main_df[\"fwd_r_o\"] = main_df[\"fwd_r_u\"] + main_df[\"fwd_r_d\"]"
   ]
  },
  {
   "cell_type": "code",
   "execution_count": 30,
   "id": "bd893489",
   "metadata": {},
   "outputs": [],
   "source": [
    "main_df[\"delta\"] = main_df[\"c\"].diff()\n",
    "\n",
    "main_df[\"fwd_r_u\"] = ((main_df[\"h\"] - main_df[\"o\"]) / ticks).shift(-1)\n",
    "main_df[\"fwd_r_d\"] = ((main_df[\"o\"] - main_df[\"l\"]) / ticks).shift(-1)\n",
    "main_df[\"fwd_r_o\"] = main_df[\"fwd_r_u\"] + main_df[\"fwd_r_d\"]"
   ]
  },
  {
   "cell_type": "code",
   "execution_count": null,
   "id": "9afe6769",
   "metadata": {},
   "outputs": [],
   "source": [
    "# Visualization: plots on range up, down, overall PDF and CDF"
   ]
  }
 ],
 "metadata": {
  "kernelspec": {
   "display_name": "trading",
   "language": "python",
   "name": "python3"
  },
  "language_info": {
   "codemirror_mode": {
    "name": "ipython",
    "version": 3
   },
   "file_extension": ".py",
   "mimetype": "text/x-python",
   "name": "python",
   "nbconvert_exporter": "python",
   "pygments_lexer": "ipython3",
   "version": "3.12.3"
  }
 },
 "nbformat": 4,
 "nbformat_minor": 5
}
