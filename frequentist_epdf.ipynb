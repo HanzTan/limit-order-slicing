{
 "cells": [
  {
   "cell_type": "code",
   "execution_count": 298,
   "id": "7cd4d5a8",
   "metadata": {},
   "outputs": [],
   "source": [
    "import pickle\n",
    "import numpy as np\n",
    "import pandas as pd\n",
    "import matplotlib.pyplot as plt\n",
    "from sklearn.cluster import KMeans\n",
    "from sklearn.metrics import silhouette_score"
   ]
  },
  {
   "cell_type": "markdown",
   "id": "e8b89c1e",
   "metadata": {},
   "source": [
    "- Copper: HG\n",
    "- Bund: RX\n",
    "- Crude Oil: CL\n",
    "- EURUSD: EC\n",
    "- Gold: GC\n",
    "- Nasdaq: NQ\n",
    "- S&P500 Mini: ES\n",
    "- Silver: SI\n",
    "- Soybeans: SO\n",
    "- UST: TY"
   ]
  },
  {
   "cell_type": "code",
   "execution_count": 367,
   "id": "3634801d",
   "metadata": {},
   "outputs": [
    {
     "data": {
      "text/html": [
       "<div>\n",
       "<style scoped>\n",
       "    .dataframe tbody tr th:only-of-type {\n",
       "        vertical-align: middle;\n",
       "    }\n",
       "\n",
       "    .dataframe tbody tr th {\n",
       "        vertical-align: top;\n",
       "    }\n",
       "\n",
       "    .dataframe thead th {\n",
       "        text-align: right;\n",
       "    }\n",
       "</style>\n",
       "<table border=\"1\" class=\"dataframe\">\n",
       "  <thead>\n",
       "    <tr style=\"text-align: right;\">\n",
       "      <th></th>\n",
       "      <th>open</th>\n",
       "      <th>high</th>\n",
       "      <th>low</th>\n",
       "      <th>close</th>\n",
       "      <th>volume</th>\n",
       "      <th>fwd_range</th>\n",
       "      <th>fwd_range_up</th>\n",
       "      <th>fwd_range_down</th>\n",
       "    </tr>\n",
       "    <tr>\n",
       "      <th>datetime</th>\n",
       "      <th></th>\n",
       "      <th></th>\n",
       "      <th></th>\n",
       "      <th></th>\n",
       "      <th></th>\n",
       "      <th></th>\n",
       "      <th></th>\n",
       "      <th></th>\n",
       "    </tr>\n",
       "  </thead>\n",
       "  <tbody>\n",
       "    <tr>\n",
       "      <th>2020-02-24 00:00:00</th>\n",
       "      <td>258.05</td>\n",
       "      <td>258.25</td>\n",
       "      <td>257.95</td>\n",
       "      <td>258.20</td>\n",
       "      <td>107</td>\n",
       "      <td>14.0</td>\n",
       "      <td>12.0</td>\n",
       "      <td>2.0</td>\n",
       "    </tr>\n",
       "    <tr>\n",
       "      <th>2020-02-24 00:30:00</th>\n",
       "      <td>258.20</td>\n",
       "      <td>258.80</td>\n",
       "      <td>258.10</td>\n",
       "      <td>258.45</td>\n",
       "      <td>617</td>\n",
       "      <td>7.0</td>\n",
       "      <td>6.0</td>\n",
       "      <td>1.0</td>\n",
       "    </tr>\n",
       "    <tr>\n",
       "      <th>2020-02-24 01:00:00</th>\n",
       "      <td>258.40</td>\n",
       "      <td>258.70</td>\n",
       "      <td>258.35</td>\n",
       "      <td>258.60</td>\n",
       "      <td>372</td>\n",
       "      <td>9.0</td>\n",
       "      <td>0.0</td>\n",
       "      <td>9.0</td>\n",
       "    </tr>\n",
       "    <tr>\n",
       "      <th>2020-02-24 01:30:00</th>\n",
       "      <td>258.65</td>\n",
       "      <td>258.65</td>\n",
       "      <td>258.20</td>\n",
       "      <td>258.40</td>\n",
       "      <td>412</td>\n",
       "      <td>16.0</td>\n",
       "      <td>5.0</td>\n",
       "      <td>11.0</td>\n",
       "    </tr>\n",
       "    <tr>\n",
       "      <th>2020-02-24 02:00:00</th>\n",
       "      <td>258.40</td>\n",
       "      <td>258.65</td>\n",
       "      <td>257.85</td>\n",
       "      <td>258.45</td>\n",
       "      <td>276</td>\n",
       "      <td>23.0</td>\n",
       "      <td>5.0</td>\n",
       "      <td>18.0</td>\n",
       "    </tr>\n",
       "    <tr>\n",
       "      <th>...</th>\n",
       "      <td>...</td>\n",
       "      <td>...</td>\n",
       "      <td>...</td>\n",
       "      <td>...</td>\n",
       "      <td>...</td>\n",
       "      <td>...</td>\n",
       "      <td>...</td>\n",
       "      <td>...</td>\n",
       "    </tr>\n",
       "    <tr>\n",
       "      <th>2020-05-13 09:00:00</th>\n",
       "      <td>236.70</td>\n",
       "      <td>236.80</td>\n",
       "      <td>236.15</td>\n",
       "      <td>236.70</td>\n",
       "      <td>1870</td>\n",
       "      <td>23.0</td>\n",
       "      <td>0.0</td>\n",
       "      <td>23.0</td>\n",
       "    </tr>\n",
       "    <tr>\n",
       "      <th>2020-05-13 09:30:00</th>\n",
       "      <td>236.70</td>\n",
       "      <td>236.70</td>\n",
       "      <td>235.55</td>\n",
       "      <td>235.95</td>\n",
       "      <td>1745</td>\n",
       "      <td>18.0</td>\n",
       "      <td>8.0</td>\n",
       "      <td>10.0</td>\n",
       "    </tr>\n",
       "    <tr>\n",
       "      <th>2020-05-13 10:00:00</th>\n",
       "      <td>235.95</td>\n",
       "      <td>236.35</td>\n",
       "      <td>235.45</td>\n",
       "      <td>236.00</td>\n",
       "      <td>1596</td>\n",
       "      <td>21.0</td>\n",
       "      <td>11.0</td>\n",
       "      <td>10.0</td>\n",
       "    </tr>\n",
       "    <tr>\n",
       "      <th>2020-05-13 10:30:00</th>\n",
       "      <td>236.00</td>\n",
       "      <td>236.55</td>\n",
       "      <td>235.50</td>\n",
       "      <td>235.60</td>\n",
       "      <td>1753</td>\n",
       "      <td>18.0</td>\n",
       "      <td>2.0</td>\n",
       "      <td>16.0</td>\n",
       "    </tr>\n",
       "    <tr>\n",
       "      <th>2020-05-13 11:00:00</th>\n",
       "      <td>235.65</td>\n",
       "      <td>235.75</td>\n",
       "      <td>234.85</td>\n",
       "      <td>235.25</td>\n",
       "      <td>1930</td>\n",
       "      <td>NaN</td>\n",
       "      <td>NaN</td>\n",
       "      <td>NaN</td>\n",
       "    </tr>\n",
       "  </tbody>\n",
       "</table>\n",
       "<p>2093 rows × 8 columns</p>\n",
       "</div>"
      ],
      "text/plain": [
       "                       open    high     low   close  volume  fwd_range  \\\n",
       "datetime                                                                 \n",
       "2020-02-24 00:00:00  258.05  258.25  257.95  258.20     107       14.0   \n",
       "2020-02-24 00:30:00  258.20  258.80  258.10  258.45     617        7.0   \n",
       "2020-02-24 01:00:00  258.40  258.70  258.35  258.60     372        9.0   \n",
       "2020-02-24 01:30:00  258.65  258.65  258.20  258.40     412       16.0   \n",
       "2020-02-24 02:00:00  258.40  258.65  257.85  258.45     276       23.0   \n",
       "...                     ...     ...     ...     ...     ...        ...   \n",
       "2020-05-13 09:00:00  236.70  236.80  236.15  236.70    1870       23.0   \n",
       "2020-05-13 09:30:00  236.70  236.70  235.55  235.95    1745       18.0   \n",
       "2020-05-13 10:00:00  235.95  236.35  235.45  236.00    1596       21.0   \n",
       "2020-05-13 10:30:00  236.00  236.55  235.50  235.60    1753       18.0   \n",
       "2020-05-13 11:00:00  235.65  235.75  234.85  235.25    1930        NaN   \n",
       "\n",
       "                     fwd_range_up  fwd_range_down  \n",
       "datetime                                           \n",
       "2020-02-24 00:00:00          12.0             2.0  \n",
       "2020-02-24 00:30:00           6.0             1.0  \n",
       "2020-02-24 01:00:00           0.0             9.0  \n",
       "2020-02-24 01:30:00           5.0            11.0  \n",
       "2020-02-24 02:00:00           5.0            18.0  \n",
       "...                           ...             ...  \n",
       "2020-05-13 09:00:00           0.0            23.0  \n",
       "2020-05-13 09:30:00           8.0            10.0  \n",
       "2020-05-13 10:00:00          11.0            10.0  \n",
       "2020-05-13 10:30:00           2.0            16.0  \n",
       "2020-05-13 11:00:00           NaN             NaN  \n",
       "\n",
       "[2093 rows x 8 columns]"
      ]
     },
     "execution_count": 367,
     "metadata": {},
     "output_type": "execute_result"
    }
   ],
   "source": [
    "# Load dataset for user-specified ticker, then partitioning into train, cross-validation and test sets\n",
    "ticker = \"HG\"\n",
    "interval = 30                        # Could be either 5, 10, 15, 30, 60 minutes\n",
    "partitions = [0.65, 0.8]            \n",
    "\n",
    "with open(\"clean-data/futures_ticks.pkl\", \"rb\") as f:\n",
    "    tick_size = pickle.load(f)[ticker]\n",
    "futures_df = pd.read_csv(f\"./clean-data/{ticker}.csv\", index_col='datetime', parse_dates=True)\n",
    "\n",
    "# Resample training set into user-specified intervals\n",
    "resampled_o = futures_df['open'].resample(f\"{interval}min\").first()\n",
    "resampled_h = futures_df['high'].resample(f\"{interval}min\").max()\n",
    "resampled_l = futures_df['low'].resample(f\"{interval}min\").min()\n",
    "resampled_c = futures_df['close'].resample(f\"{interval}min\").last()\n",
    "resampled_v = futures_df['volume'].resample(f\"{interval}min\").sum()\n",
    "futures_df = pd.DataFrame(\n",
    "    {\n",
    "        'open': resampled_o,\n",
    "        'high': resampled_h,\n",
    "        'low': resampled_l,\n",
    "        'close': resampled_c,\n",
    "        'volume': resampled_v,\n",
    "    }\n",
    ")\n",
    "futures_df.dropna(inplace=True)\n",
    "\n",
    "train_df = futures_df.iloc[:int(partitions[0]*len(futures_df))].copy()\n",
    "cv_df = futures_df.iloc[:int(partitions[1]*len(futures_df))].copy()\n",
    "test_df = futures_df.copy()\n",
    "\n",
    "# Construct Range, RangeUp, RangeDown responses\n",
    "train_df[\"fwd_range\"] = ((train_df[\"high\"] - train_df[\"low\"]) / tick_size).shift(-1)\n",
    "train_df[\"fwd_range_up\"] = ((train_df[\"high\"] - train_df[\"open\"]) / tick_size).shift(-1)\n",
    "train_df[\"fwd_range_down\"] = ((train_df[\"open\"] - train_df[\"low\"]) / tick_size).shift(-1)\n",
    "\n",
    "train_df"
   ]
  },
  {
   "cell_type": "code",
   "execution_count": 368,
   "id": "77191aa4",
   "metadata": {},
   "outputs": [
    {
     "name": "stdout",
     "output_type": "stream",
     "text": [
      "2 0.6912922270712267\n",
      "3 0.6189972916908761\n",
      "4 0.5983940821008567\n",
      "5 0.5822424719004292\n",
      "6 0.5789986912118587\n",
      "7 0.5737644697209532\n"
     ]
    }
   ],
   "source": [
    "# Construct volume, volatility and delta features\n",
    "tuning_df = train_df.copy()\n",
    "tuning_df[\"delta_feat\"] = tuning_df[\"close\"].diff()\n",
    "tuning_df[\"volume_feat\"] = tuning_df[\"volume\"]\n",
    "tuning_df[\"vol_feat\"] = tuning_df[\"delta_feat\"].rolling(50).std()\n",
    "tuning_df.dropna(inplace=True)\n",
    "\n",
    "# Build regime clusters on features\n",
    "n_regimes = [_ for _ in range(2, 8)]\n",
    "features = [\"delta_feat\", \"vol_feat\", \"volume_feat\"]\n",
    "for reg in n_regimes:\n",
    "    clust_labels = KMeans(n_clusters=reg, random_state=10).fit_predict(tuning_df[features])\n",
    "    print(reg, silhouette_score(tuning_df[features], clust_labels))\n",
    "\n",
    "# regimes = 3\n",
    "\n",
    "# kmeans = KMeans(n_clusters=regimes, random_state=10)\n",
    "# tuning_df[\"regime\"] = kmeans.fit_predict(tuning_df[features])\n",
    "\n",
    "# # Build empirical PDF for each response and regime\n",
    "# regime_obs = tuning_df[\"regime\"].value_counts()\n",
    "# responses = [\"fwd_range\", \"fwd_range_up\", \"fwd_range_down\"]\n",
    "# empirical_pdfs = {resp: tuning_df[[resp, \"regime\"]].groupby(\"regime\").value_counts() / regime_obs for resp in responses}"
   ]
  },
  {
   "cell_type": "code",
   "execution_count": 339,
   "id": "89aa0aac",
   "metadata": {},
   "outputs": [
    {
     "data": {
      "text/plain": [
       "{'fwd_range': regime  fwd_range\n",
       " 0       10.0         0.045231\n",
       "         7.0          0.041790\n",
       "         11.0         0.038840\n",
       "         9.0          0.038348\n",
       "         8.0          0.037856\n",
       "                        ...   \n",
       " 2       316.0        0.002331\n",
       "         326.0        0.002331\n",
       "         383.0        0.002331\n",
       "         452.0        0.002331\n",
       "         777.0        0.002331\n",
       " Name: count, Length: 451, dtype: float64,\n",
       " 'fwd_range_up': regime  fwd_range_up\n",
       " 0       1.0             0.082596\n",
       "         4.0             0.070796\n",
       "         3.0             0.068338\n",
       "         2.0             0.067355\n",
       "         5.0             0.059489\n",
       "                           ...   \n",
       " 2       220.0           0.002331\n",
       "         276.0           0.002331\n",
       "         288.0           0.002331\n",
       "         346.0           0.002331\n",
       "         547.0           0.002331\n",
       " Name: count, Length: 327, dtype: float64,\n",
       " 'fwd_range_down': regime  fwd_range_down\n",
       " 0       1.0               0.087512\n",
       "         3.0               0.083088\n",
       "         2.0               0.070796\n",
       "         4.0               0.067847\n",
       "         0.0               0.054572\n",
       "                             ...   \n",
       " 2       230.0             0.002331\n",
       "         231.0             0.002331\n",
       "         261.0             0.002331\n",
       "         311.0             0.002331\n",
       "         315.0             0.002331\n",
       " Name: count, Length: 324, dtype: float64}"
      ]
     },
     "execution_count": 339,
     "metadata": {},
     "output_type": "execute_result"
    }
   ],
   "source": [
    "empirical_pdfs"
   ]
  },
  {
   "cell_type": "code",
   "execution_count": 335,
   "id": "e77811db",
   "metadata": {},
   "outputs": [
    {
     "data": {
      "image/png": "[encoded data removed]",
      "text/plain": [
       "<Figure size 1500x800 with 1 Axes>"
      ]
     },
     "metadata": {},
     "output_type": "display_data"
    },
    {
     "data": {
      "image/png": "[encoded data removed]",
      "text/plain": [
       "<Figure size 1500x800 with 1 Axes>"
      ]
     },
     "metadata": {},
     "output_type": "display_data"
    },
    {
     "data": {
      "image/png": "[encoded data removed]",
      "text/plain": [
       "<Figure size 1500x800 with 1 Axes>"
      ]
     },
     "metadata": {},
     "output_type": "display_data"
    }
   ],
   "source": [
    "for response, df in empirical_pdfs.items():\n",
    "    plt.figure(figsize=(15, 8))\n",
    "    plt.title(f\"{response} empirical PDF\")\n",
    "    for i in range(regimes):\n",
    "        plt.bar(df[i].keys(), df[i].values, label=f\"Regime {i}\", alpha=0.8)\n",
    "    plt.legend()"
   ]
  },
  {
   "cell_type": "code",
   "execution_count": 336,
   "id": "3a24c264",
   "metadata": {},
   "outputs": [],
   "source": [
    "optimizing_df = cv_df.copy()\n",
    "optimizing_df[\"fwd_range\"] = ((optimizing_df[\"high\"] - optimizing_df[\"low\"]) / tick_size).shift(-1)\n",
    "optimizing_df[\"fwd_range_up\"] = ((optimizing_df[\"high\"] - optimizing_df[\"open\"]) / tick_size).shift(-1)\n",
    "optimizing_df[\"fwd_range_down\"] = ((optimizing_df[\"open\"] - optimizing_df[\"low\"]) / tick_size).shift(-1)\n",
    "\n",
    "optimizing_df[\"delta_feat\"] = optimizing_df[\"close\"].diff()\n",
    "optimizing_df[\"volume_feat\"] = optimizing_df[\"volume\"]\n",
    "optimizing_df[\"vol_feat\"] = optimizing_df[\"delta_feat\"].rolling(50).std()\n",
    "optimizing_df = optimizing_df.iloc[int(partitions[0]*len(futures_df)):].copy()\n",
    "optimizing_df.dropna(inplace=True)\n",
    "optimizing_df[\"regime\"] = kmeans.predict(optimizing_df[features])"
   ]
  },
  {
   "cell_type": "code",
   "execution_count": 337,
   "id": "d223299b",
   "metadata": {},
   "outputs": [],
   "source": [
    "log_likelihoods = {}\n",
    "for resp in responses:\n",
    "    resp_reg_df = optimizing_df[[resp, \"regime\"]]\n",
    "    resp_pdf = np.log(empirical_pdfs[resp])\n",
    "    obs_df = resp_reg_df.groupby(\"regime\").value_counts()\n",
    "    resp_log_likelihood = 0\n",
    "    for reg in range(regimes):\n",
    "        reg_obs_df = obs_df[reg]\n",
    "        reg_resp_pdf = resp_pdf[reg]\n",
    "        zero_ll = reg_resp_pdf.min()\n",
    "        for spread, obs in reg_obs_df.items():\n",
    "            resp_log_likelihood += obs * reg_resp_pdf.get(spread, zero_ll)\n",
    "            \n",
    "    log_likelihoods[resp] = resp_log_likelihood"
   ]
  },
  {
   "cell_type": "code",
   "execution_count": 333,
   "id": "69e6b0d3",
   "metadata": {},
   "outputs": [
    {
     "data": {
      "text/plain": [
       "{'fwd_range': -3185.9051838280866,\n",
       " 'fwd_range_up': -2727.7963716563786,\n",
       " 'fwd_range_down': -2716.7058453450445}"
      ]
     },
     "execution_count": 333,
     "metadata": {},
     "output_type": "execute_result"
    }
   ],
   "source": [
    "log_likelihoods"
   ]
  },
  {
   "cell_type": "code",
   "execution_count": 338,
   "id": "c13154d6",
   "metadata": {},
   "outputs": [
    {
     "data": {
      "text/plain": [
       "{'fwd_range': -3179.7367100756364,\n",
       " 'fwd_range_up': -2707.7918698580656,\n",
       " 'fwd_range_down': -2711.713283367549}"
      ]
     },
     "execution_count": 338,
     "metadata": {},
     "output_type": "execute_result"
    }
   ],
   "source": [
    "log_likelihoods"
   ]
  },
  {
   "cell_type": "code",
   "execution_count": null,
   "id": "a05c9233",
   "metadata": {},
   "outputs": [],
   "source": [
    "# Clusters seem to always suggest smaller is better. Should we stick to that\n",
    "# Polyfit to smoothen out PDF?\n",
    "# Run actual optimizations\n",
    "# Clean up code, write some comments"
   ]
  },
  {
   "cell_type": "code",
   "execution_count": null,
   "id": "2511d6ff",
   "metadata": {},
   "outputs": [],
   "source": [
    "# Hyperparameters\n",
    "# Volume: Raw/ SMA (Window size) / EMA (Weight)\n",
    "# Volatility: SMA (Window size) / EMA (Weight)\n",
    "\n",
    "# Cluster size: optimize internall"
   ]
  }
 ],
 "metadata": {
  "kernelspec": {
   "display_name": "sandbox",
   "language": "python",
   "name": "python3"
  },
  "language_info": {
   "codemirror_mode": {
    "name": "ipython",
    "version": 3
   },
   "file_extension": ".py",
   "mimetype": "text/x-python",
   "name": "python",
   "nbconvert_exporter": "python",
   "pygments_lexer": "ipython3",
   "version": "3.11.8"
  }
 },
 "nbformat": 4,
 "nbformat_minor": 5
}
